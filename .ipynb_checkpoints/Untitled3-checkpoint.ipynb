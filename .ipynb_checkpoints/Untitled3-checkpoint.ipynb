{
 "cells": [
  {
   "cell_type": "code",
   "execution_count": 17,
   "metadata": {},
   "outputs": [
    {
     "name": "stdout",
     "output_type": "stream",
     "text": [
      "[[ 4  3]\n",
      " [-5  9]]\n"
     ]
    },
    {
     "data": {
      "text/plain": [
       "7"
      ]
     },
     "execution_count": 17,
     "metadata": {},
     "output_type": "execute_result"
    }
   ],
   "source": [
    "import numpy as np \n",
    "\n",
    "def row_dot(A,r1,r2):\n",
    "    A= np.array([[4,3],[-5,9]])\n",
    "    print(A)\n",
    "    return np.dot(r1,r2)\n",
    "\n",
    "r1 = [4,3]\n",
    "r2 = [-5,9]\n",
    "row_dot(A,r1,r2)"
   ]
  },
  {
   "cell_type": "code",
   "execution_count": 18,
   "metadata": {},
   "outputs": [
    {
     "name": "stdout",
     "output_type": "stream",
     "text": [
      "[[ 4  3]\n",
      " [-5  9]]\n"
     ]
    }
   ],
   "source": [
    "import numpy as np\n",
    "def myfunc(A):\n",
    "    A= np.array([[4,3],[-5,9]])\n",
    "    print(A)\n",
    "myfunc(A)"
   ]
  },
  {
   "cell_type": "code",
   "execution_count": 41,
   "metadata": {},
   "outputs": [
    {
     "name": "stdout",
     "output_type": "stream",
     "text": [
      "[[0.97992471]]\n"
     ]
    }
   ],
   "source": [
    "from numpy import arccos,dot\n",
    "from numpy.linalg import norm\n",
    "def angle_between(theta,v,w):\n",
    "    v = np.array([[10,9,3]])\n",
    "    w = np.array([[2,5,12]])\n",
    "    theta = \\\n",
    "     arccos(dot(v,w.T)/ (norm(v)*norm(w)))\n",
    "print(theta)\n",
    "v = [10,9,3]\n",
    "w= [2,5,12]\n",
    "angle_between(theta,v,w)"
   ]
  },
  {
   "cell_type": "code",
   "execution_count": 40,
   "metadata": {},
   "outputs": [
    {
     "name": "stdout",
     "output_type": "stream",
     "text": [
      "[[0.97992471]]\n"
     ]
    }
   ],
   "source": [
    "from numpy import arccos,dot\n",
    "from numpy.linalg import norm\n",
    "v = np.array([[10,9,3]])\n",
    "w = np.array([[2,5,12]])\n",
    "theta = \\\n",
    "arccos(dot(v,w.T)/ (norm(v)*norm(w)))\n",
    "print(theta)\n",
    "v = [10,9,3]\n",
    "w= [2,5,12]"
   ]
  },
  {
   "cell_type": "code",
   "execution_count": 74,
   "metadata": {},
   "outputs": [
    {
     "name": "stdout",
     "output_type": "stream",
     "text": [
      "<function angle at 0x00000211D412FEE0>\n"
     ]
    },
    {
     "ename": "TypeError",
     "evalue": "__init__() missing 3 required positional arguments: 'A', 'x', and 'y'",
     "output_type": "error",
     "traceback": [
      "\u001b[1;31m---------------------------------------------------------------------------\u001b[0m",
      "\u001b[1;31mTypeError\u001b[0m                                 Traceback (most recent call last)",
      "\u001b[1;32m<ipython-input-74-3e039f3e6f24>\u001b[0m in \u001b[0;36m<module>\u001b[1;34m\u001b[0m\n\u001b[0;32m     18\u001b[0m \u001b[0mx\u001b[0m \u001b[1;33m=\u001b[0m \u001b[0mnp\u001b[0m\u001b[1;33m.\u001b[0m\u001b[0marray\u001b[0m\u001b[1;33m(\u001b[0m\u001b[1;33m[\u001b[0m\u001b[1;36m1\u001b[0m\u001b[1;33m,\u001b[0m \u001b[1;36m1\u001b[0m\u001b[1;33m]\u001b[0m\u001b[1;33m)\u001b[0m\u001b[1;33m\u001b[0m\u001b[1;33m\u001b[0m\u001b[0m\n\u001b[0;32m     19\u001b[0m \u001b[0mprint\u001b[0m\u001b[1;33m(\u001b[0m\u001b[0mangle\u001b[0m\u001b[1;33m)\u001b[0m\u001b[1;33m\u001b[0m\u001b[1;33m\u001b[0m\u001b[0m\n\u001b[1;32m---> 20\u001b[1;33m \u001b[0mv1\u001b[0m\u001b[1;33m=\u001b[0m\u001b[0mvector_calculator\u001b[0m\u001b[1;33m(\u001b[0m\u001b[1;33m)\u001b[0m\u001b[1;33m\u001b[0m\u001b[1;33m\u001b[0m\u001b[0m\n\u001b[0m\u001b[0;32m     21\u001b[0m \u001b[0mprint\u001b[0m\u001b[1;33m(\u001b[0m\u001b[0mv1\u001b[0m\u001b[1;33m.\u001b[0m\u001b[0mangle\u001b[0m\u001b[1;33m(\u001b[0m\u001b[0mA\u001b[0m\u001b[1;33m)\u001b[0m\u001b[1;33m)\u001b[0m\u001b[1;33m\u001b[0m\u001b[1;33m\u001b[0m\u001b[0m\n\u001b[0;32m     22\u001b[0m \u001b[1;33m\u001b[0m\u001b[0m\n",
      "\u001b[1;31mTypeError\u001b[0m: __init__() missing 3 required positional arguments: 'A', 'x', and 'y'"
     ]
    }
   ],
   "source": [
    "import numpy as np\n",
    "from numpy.linalg import norm\n",
    "class vector_calculator:\n",
    "    def __init__(self,A,x,y):\n",
    "        self.A = A\n",
    "        self.x = x \n",
    "        self.y= y\n",
    "    \n",
    "    def angle(self):\n",
    "\n",
    "        nominator = x@A@y\n",
    "        denominator = (x@A@x)*(y@A@y)\n",
    "\n",
    "        A = np.arccos(nominator/denominator)\n",
    "\n",
    "        return(self.A)\n",
    "y = np.array([0, -1])\n",
    "x = np.array([1, 1])\n",
    "print(angle)\n",
    "v1=vector_calculator()\n",
    "print(v1.angle(A))\n",
    "\n",
    "#angle(A,x,y)"
   ]
  },
  {
   "cell_type": "code",
   "execution_count": 86,
   "metadata": {},
   "outputs": [
    {
     "name": "stdout",
     "output_type": "stream",
     "text": [
      "<function angle at 0x00000211D412FE50>\n",
      "[[ 1.  -0.5]\n",
      " [-0.5  5. ]]\n"
     ]
    },
    {
     "ename": "TypeError",
     "evalue": "angle() takes 1 positional argument but 2 were given",
     "output_type": "error",
     "traceback": [
      "\u001b[1;31m---------------------------------------------------------------------------\u001b[0m",
      "\u001b[1;31mTypeError\u001b[0m                                 Traceback (most recent call last)",
      "\u001b[1;32m<ipython-input-86-3ca9da11ffa5>\u001b[0m in \u001b[0;36m<module>\u001b[1;34m\u001b[0m\n\u001b[0;32m     14\u001b[0m \u001b[0mprint\u001b[0m\u001b[1;33m(\u001b[0m\u001b[0mv1\u001b[0m\u001b[1;33m.\u001b[0m\u001b[0mA\u001b[0m\u001b[1;33m)\u001b[0m\u001b[1;33m\u001b[0m\u001b[1;33m\u001b[0m\u001b[0m\n\u001b[0;32m     15\u001b[0m \u001b[1;33m\u001b[0m\u001b[0m\n\u001b[1;32m---> 16\u001b[1;33m \u001b[0mangle\u001b[0m\u001b[1;33m(\u001b[0m\u001b[0mx\u001b[0m\u001b[1;33m,\u001b[0m\u001b[0my\u001b[0m\u001b[1;33m)\u001b[0m\u001b[1;33m\u001b[0m\u001b[1;33m\u001b[0m\u001b[0m\n\u001b[0m",
      "\u001b[1;31mTypeError\u001b[0m: angle() takes 1 positional argument but 2 were given"
     ]
    }
   ],
   "source": [
    "import numpy as np\n",
    "from numpy.linalg import norm\n",
    "def angle(self):\n",
    "        nominator = x@A@y\n",
    "        denominator = (x@A@x)*(y@A@y)\n",
    "\n",
    "        A = np.arccos(nominator/denominator)\n",
    "\n",
    "        return(self.A)\n",
    "y = np.array([0, -1])\n",
    "x = np.array([1, 1])\n",
    "print(angle)\n",
    "v1=vector_calculator(A,x,y)\n",
    "print(v1.A)\n",
    "\n",
    "angle(x,y)"
   ]
  },
  {
   "cell_type": "code",
   "execution_count": 83,
   "metadata": {},
   "outputs": [
    {
     "data": {
      "text/plain": [
       "'tanisha'"
      ]
     },
     "execution_count": 83,
     "metadata": {},
     "output_type": "execute_result"
    }
   ],
   "source": [
    "class employee:\n",
    "    def __init__(self,first,last,pay):\n",
    "        self.first = first\n",
    "        self.last=last\n",
    "        self.pay=pay       \n",
    "emp1 = employee('tanisha','kapoor',70)\n",
    "emp1.first\n",
    "#print(emp1.fullname())\n",
    "        \n",
    "    "
   ]
  },
  {
   "cell_type": "code",
   "execution_count": 100,
   "metadata": {},
   "outputs": [
    {
     "name": "stdout",
     "output_type": "stream",
     "text": [
      "[[0.97992471]]\n"
     ]
    }
   ],
   "source": [
    "import numpy as np\n",
    "from numpy.linalg import norm\n",
    "class vector_calculator:\n",
    "    def __init__(self,theta,x,y):\n",
    "        self.theta = theta\n",
    "        self.x = x \n",
    "        self.y= y\n",
    "\n",
    "    def angle(self):\n",
    "        x = np.array([[10,9,3]])\n",
    "        y = np.array([[2,5,12]])\n",
    "        theta = \\\n",
    "        arccos(dot(x,y.T)/ (norm(x)*norm(y)))\n",
    "        print(theta)\n",
    "#x = [10,9,3]\n",
    "#y= [2,5,12]\n",
    "v1=vector_calculator(theta,x,y)\n",
    "print(v1.theta)\n",
    "\n",
    "#angle(x,y)"
   ]
  },
  {
   "cell_type": "code",
   "execution_count": 103,
   "metadata": {},
   "outputs": [
    {
     "name": "stdout",
     "output_type": "stream",
     "text": [
      "[[0.97992471]]\n",
      "[[0.97992471]]\n",
      "None\n"
     ]
    }
   ],
   "source": [
    "import numpy as np\n",
    "from numpy.linalg import norm\n",
    "class vector_calculator:\n",
    "    def __init__(self,x,y):\n",
    "        self.theta = theta\n",
    "        self.x = x \n",
    "        self.y= y\n",
    "\n",
    "    def angle(self):\n",
    "        theta = \\\n",
    "        arccos(dot(x,y.T)/ (norm(x)*norm(y)))\n",
    "        return theta\n",
    "x =[10,9,3]\n",
    "y= [2,5,12]\n",
    "v1=vector_calculator(x,y)\n",
    "print(v1.angle())"
   ]
  },
  {
   "cell_type": "code",
   "execution_count": 42,
   "metadata": {},
   "outputs": [
    {
     "ename": "AttributeError",
     "evalue": "'list' object has no attribute 'T'",
     "output_type": "error",
     "traceback": [
      "\u001b[1;31m---------------------------------------------------------------------------\u001b[0m",
      "\u001b[1;31mAttributeError\u001b[0m                            Traceback (most recent call last)",
      "\u001b[1;32m<ipython-input-42-88fa3bdd4fe8>\u001b[0m in \u001b[0;36m<module>\u001b[1;34m\u001b[0m\n\u001b[0;32m     14\u001b[0m \u001b[0mv1\u001b[0m\u001b[1;33m=\u001b[0m\u001b[0mvector_calculator\u001b[0m\u001b[1;33m(\u001b[0m\u001b[0mx\u001b[0m\u001b[1;33m,\u001b[0m\u001b[0my\u001b[0m\u001b[1;33m)\u001b[0m\u001b[1;33m\u001b[0m\u001b[1;33m\u001b[0m\u001b[0m\n\u001b[0;32m     15\u001b[0m \u001b[1;33m(\u001b[0m\u001b[0mv1\u001b[0m\u001b[1;33m.\u001b[0m\u001b[0mx\u001b[0m\u001b[1;33m)\u001b[0m\u001b[1;33m\u001b[0m\u001b[1;33m\u001b[0m\u001b[0m\n\u001b[1;32m---> 16\u001b[1;33m \u001b[0mprint\u001b[0m\u001b[1;33m(\u001b[0m\u001b[0mv1\u001b[0m\u001b[1;33m.\u001b[0m\u001b[0mangle_between\u001b[0m\u001b[1;33m(\u001b[0m\u001b[1;33m)\u001b[0m\u001b[1;33m)\u001b[0m\u001b[1;33m\u001b[0m\u001b[1;33m\u001b[0m\u001b[0m\n\u001b[0m",
      "\u001b[1;32m<ipython-input-42-88fa3bdd4fe8>\u001b[0m in \u001b[0;36mangle_between\u001b[1;34m(self)\u001b[0m\n\u001b[0;32m      7\u001b[0m \u001b[1;33m\u001b[0m\u001b[0m\n\u001b[0;32m      8\u001b[0m     \u001b[1;32mdef\u001b[0m \u001b[0mangle_between\u001b[0m\u001b[1;33m(\u001b[0m\u001b[0mself\u001b[0m\u001b[1;33m)\u001b[0m\u001b[1;33m:\u001b[0m\u001b[1;33m\u001b[0m\u001b[1;33m\u001b[0m\u001b[0m\n\u001b[1;32m----> 9\u001b[1;33m         \u001b[0mangle\u001b[0m \u001b[1;33m=\u001b[0m \u001b[0mnp\u001b[0m\u001b[1;33m.\u001b[0m\u001b[0marccos\u001b[0m\u001b[1;33m(\u001b[0m\u001b[0mdot\u001b[0m\u001b[1;33m(\u001b[0m\u001b[0mx\u001b[0m\u001b[1;33m,\u001b[0m\u001b[0my\u001b[0m\u001b[1;33m.\u001b[0m\u001b[0mT\u001b[0m\u001b[1;33m)\u001b[0m\u001b[1;33m/\u001b[0m \u001b[1;33m(\u001b[0m\u001b[0mnorm\u001b[0m\u001b[1;33m(\u001b[0m\u001b[0mx\u001b[0m\u001b[1;33m)\u001b[0m\u001b[1;33m*\u001b[0m\u001b[0mnorm\u001b[0m\u001b[1;33m(\u001b[0m\u001b[0my\u001b[0m\u001b[1;33m)\u001b[0m\u001b[1;33m)\u001b[0m\u001b[1;33m)\u001b[0m\u001b[1;33m\u001b[0m\u001b[1;33m\u001b[0m\u001b[0m\n\u001b[0m\u001b[0;32m     10\u001b[0m         \u001b[1;32mreturn\u001b[0m \u001b[0mangle\u001b[0m\u001b[1;33m\u001b[0m\u001b[1;33m\u001b[0m\u001b[0m\n\u001b[0;32m     11\u001b[0m \u001b[0mx\u001b[0m \u001b[1;33m=\u001b[0m\u001b[1;33m[\u001b[0m\u001b[1;36m10\u001b[0m\u001b[1;33m,\u001b[0m\u001b[1;36m9\u001b[0m\u001b[1;33m,\u001b[0m\u001b[1;36m3\u001b[0m\u001b[1;33m]\u001b[0m\u001b[1;33m\u001b[0m\u001b[1;33m\u001b[0m\u001b[0m\n",
      "\u001b[1;31mAttributeError\u001b[0m: 'list' object has no attribute 'T'"
     ]
    }
   ],
   "source": [
    "import numpy as np\n",
    "from numpy.linalg import norm\n",
    "class vector_calculator:\n",
    "    def __init__(self,x,y):\n",
    "        self.x = x \n",
    "        self.y= y\n",
    "\n",
    "    def angle_between(self):\n",
    "        angle = np.arccos(dot(x,y.T)/ (norm(x)*norm(y)))\n",
    "        return angle\n",
    "x =[10,9,3]\n",
    "y= [2,5,12]\n",
    "\n",
    "v1=vector_calculator(x,y)\n",
    "(v1.x)\n",
    "print(v1.angle_between())"
   ]
  },
  {
   "cell_type": "code",
   "execution_count": 72,
   "metadata": {},
   "outputs": [],
   "source": [
    "class Vector:\n",
    "    def __init__(self,vector_1,vector_2):\n",
    "        self.vector_1 = vector_1\n",
    "        self.vector_2 = vector_2\n",
    "        self.tol = tol\n",
    "        \n",
    "    def angle_between(self):\n",
    "    \n",
    "        unit_vector_1 = self.vector_1 / np.linalg.norm(self.vector_1)\n",
    "        unit_vector_2 = self.vector_2 / np.linalg.norm(self.vector_2)\n",
    "        dot_product = np.dot(unit_vector_1, unit_vector_2)\n",
    "        angle = np.arccos(dot_product)\n",
    "        print(angle)\n",
    "    \n",
    "#vector_1 = [0,1]  \n",
    "#vector_2 = [1,0]\n",
    "#v1=Vector([0,1],[1,0])\n",
    "#v1 = Vector(vector_1,vector_2)\n",
    "#v1.angle_between()\n",
    "#angle_between(vector_1,vector_2)\n",
    "    def is_orthogonal(self):\n",
    "        unit_vector_1 = self.vector_1 / np.linalg.norm(self.vector_1)\n",
    "        unit_vector_2 = self.vector_2 / np.linalg.norm(self.vector_2)\n",
    "        dot_product = np.dot(unit_vector_1, unit_vector_2)\n",
    "        angle = np.arccos(dot_product)\n",
    "        print(angle)\n",
    "        \n",
    "        if -self.tol < ((math.pi)/2-angle) < self.tol:\n",
    "            print(\"output:\", 1)\n",
    "        else :\n",
    "            print(\"output:\", 0)\n",
    "        return angle\n",
    "    \n",
    "#vector_1 = np.array([[1],[0.001]])\n",
    "#vector_2 = np.array([[0.001], [1]])\n",
    "\n",
    "#v1=Vector([0,1],[1,0])\n",
    "#v1=Vector(vector_1,vector_2)\n",
    "#v1.angle_between()\n",
    "#v1.is_orthogonal()\n"
   ]
  },
  {
   "cell_type": "code",
   "execution_count": 85,
   "metadata": {},
   "outputs": [
    {
     "name": "stdout",
     "output_type": "stream",
     "text": [
      "[[1.56879633]]\n",
      "output: 1\n"
     ]
    }
   ],
   "source": [
    "def is_orthogonal(vector_1,vector_2,tol):\n",
    "        unit_vector_1 = vector_1 / np.linalg.norm(vector_1)\n",
    "        unit_vector_2 = vector_2 / np.linalg.norm(vector_2)\n",
    "        dot_product = np.dot(unit_vector_1.T, unit_vector_2)\n",
    "        angle = np.arccos(dot_product)\n",
    "        print(angle)\n",
    "        \n",
    "        if -tol < ((math.pi)/2-angle) < tol:\n",
    "            print(\"output:\", 1)\n",
    "        else :\n",
    "            print(\"output:\", 0)\n",
    "#return angle\n",
    "    \n",
    "v1 = np.array([[1],[0.001]])\n",
    "v2 = np.array([[0.001], [1]])\n",
    "#is_orthogonal(v1,v2,0.01)\n",
    "is_orthogonal(v1,v2,0.01) \n"
   ]
  },
  {
   "cell_type": "code",
   "execution_count": 88,
   "metadata": {},
   "outputs": [
    {
     "name": "stdout",
     "output_type": "stream",
     "text": [
      "[[1.56879633]]\n",
      "output: 0\n"
     ]
    }
   ],
   "source": [
    "v1 = np.array([[1], [0.001]])\n",
    "v2 = np.array([[0.001], [1]])\n",
    "is_orthogonal(v1,v2,0.001)"
   ]
  },
  {
   "cell_type": "code",
   "execution_count": 86,
   "metadata": {},
   "outputs": [
    {
     "name": "stdout",
     "output_type": "stream",
     "text": [
      "[[0.78439816]]\n",
      "output: 0\n"
     ]
    }
   ],
   "source": [
    "v1 = np.array([[1],[0.001]])\n",
    "v2 = np.array([[1], [1]])\n",
    "is_orthogonal(v1,v2,0.01)"
   ]
  },
  {
   "cell_type": "code",
   "execution_count": 89,
   "metadata": {},
   "outputs": [
    {
     "name": "stdout",
     "output_type": "stream",
     "text": [
      "[[0.78439816]]\n",
      "output: 0\n"
     ]
    }
   ],
   "source": [
    "v1 = np.array([[1], [1]])\n",
    "v2 == np.array([[-1], [1]])\n",
    "is_orthogonal(v1,v2,1e-10)"
   ]
  },
  {
   "cell_type": "code",
   "execution_count": 49,
   "metadata": {},
   "outputs": [
    {
     "name": "stdout",
     "output_type": "stream",
     "text": [
      "[[1]\n",
      " [2]]\n",
      "[[3]\n",
      " [4]]\n"
     ]
    }
   ],
   "source": [
    "tol =1\n",
    "def is_orthogonal(v1,v2,tol):\n",
    "    v1 = np.array([[1],\n",
    "                   [2]])\n",
    "    v2 = np.array([[3],[4]])\n",
    "    print(v1)\n",
    "    print(v2)\n",
    "is_orthogonal(v1,v2,tol)    "
   ]
  },
  {
   "cell_type": "code",
   "execution_count": 115,
   "metadata": {},
   "outputs": [
    {
     "name": "stdout",
     "output_type": "stream",
     "text": [
      "[[1 2]\n",
      " [4 5]]\n",
      "[[ 7  8]\n",
      " [ 9 10]]\n",
      "Matrix Division : \n",
      "[[0.14285714 0.25      ]\n",
      " [0.44444444 0.5       ]]\n"
     ]
    }
   ],
   "source": [
    "import numpy as np\n",
    "# Two matrices are initialized by value\n",
    "x = np.array([[1, 2], [4, 5]])\n",
    "y = np.array([[7, 8], [9, 10]])\n",
    "# divide()is used to divide matrices\n",
    "\n",
    "print(x)\n",
    "print(y)\n",
    "print (\"Matrix Division : \")\n",
    "print (np.divide(x,y))"
   ]
  },
  {
   "cell_type": "code",
   "execution_count": 132,
   "metadata": {},
   "outputs": [
    {
     "name": "stdout",
     "output_type": "stream",
     "text": [
      "[[1 2]\n",
      " [4 5]]\n",
      "[[ 7  8]\n",
      " [ 9 10]]\n",
      "Matrix Division : \n",
      "[[0.14285714 0.25      ]\n",
      " [0.44444444 0.5       ]]\n"
     ]
    }
   ],
   "source": [
    "import numpy as np\n",
    "def matrix_division(m1,m2):\n",
    "# Two matrices are initialized by value\n",
    "    m1 = np.array([[1, 2,], [4, 5]])\n",
    "    m2 = np.array([[7, 8], [9, 10]])\n",
    "# divide()is used to divide matrices\n",
    "    print(m1)\n",
    "    print(m2)\n",
    "#m1 = [[1,2] ,[4,5]]\n",
    "#m2 = [[7, 8], [9, 10]]\n",
    "    print (\"Matrix Division : \")\n",
    "    print (np.divide(m1,m2))\n",
    "matrix_division([[1,2] ,[4,5]],[[7, 8], [9, 10]] )"
   ]
  },
  {
   "cell_type": "code",
   "execution_count": 155,
   "metadata": {},
   "outputs": [
    {
     "name": "stdout",
     "output_type": "stream",
     "text": [
      "[[1 2 3]\n",
      " [4 5 6]]\n",
      "[[ 7  8  9]\n",
      " [ 9 10 11]]\n",
      "Matrix Division : \n",
      "[[0.14285714 0.25       0.33333333]\n",
      " [0.44444444 0.5        0.54545455]]\n"
     ]
    }
   ],
   "source": [
    "import numpy as np\n",
    "def matrix_division(m1,m2):\n",
    "# Two matrices are initialized by value\n",
    "    m1 = np.array([[1, 2,3], [4, 5,6]])\n",
    "    m2 = np.array([[7, 8,9], [9, 10,11]])\n",
    "    print(m1)\n",
    "    print(m2)\n",
    "    print (\"Matrix Division : \")\n",
    "    print (np.divide(m1,m2))\n",
    "matrix_division([[1,2,3] ,[4,5,6]],[[7, 8,9], [9, 10,11]] )"
   ]
  },
  {
   "cell_type": "code",
   "execution_count": 124,
   "metadata": {},
   "outputs": [],
   "source": [
    "def row_dot (A):\n",
    "    r1 = A[0]\n",
    "    r2 = A[1]\n",
    "    print(np.dot(A[0],A[1]))\n",
    "    "
   ]
  },
  {
   "cell_type": "code",
   "execution_count": 125,
   "metadata": {},
   "outputs": [
    {
     "name": "stdout",
     "output_type": "stream",
     "text": [
      "58\n"
     ]
    }
   ],
   "source": [
    "row_dot([[3,5,6],[8,2,4]])"
   ]
  },
  {
   "cell_type": "code",
   "execution_count": 151,
   "metadata": {},
   "outputs": [
    {
     "name": "stdout",
     "output_type": "stream",
     "text": [
      "[[3 5 7]\n",
      " [8 2 4]]\n"
     ]
    },
    {
     "data": {
      "text/plain": [
       "62"
      ]
     },
     "execution_count": 151,
     "metadata": {},
     "output_type": "execute_result"
    }
   ],
   "source": [
    "import numpy as np \n",
    "\n",
    "def row_dot(A,r1,r2):\n",
    "    \n",
    "    A= np.array([[3,5,7],[8,2,4]])\n",
    "    print(A)\n",
    "    return np.dot(r1,r2)\n",
    "\n",
    "#r1 = [3,5,7]\n",
    "#r2 =[8,2,4]\n",
    "\n",
    "row_dot(A,r1,r2)"
   ]
  },
  {
   "cell_type": "code",
   "execution_count": 150,
   "metadata": {},
   "outputs": [
    {
     "ename": "NameError",
     "evalue": "name 'v1T' is not defined",
     "output_type": "error",
     "traceback": [
      "\u001b[1;31m---------------------------------------------------------------------------\u001b[0m",
      "\u001b[1;31mNameError\u001b[0m                                 Traceback (most recent call last)",
      "\u001b[1;32m<ipython-input-150-42054fd2ec20>\u001b[0m in \u001b[0;36m<module>\u001b[1;34m\u001b[0m\n\u001b[0;32m      8\u001b[0m         \u001b[0mprint\u001b[0m\u001b[1;33m(\u001b[0m\u001b[1;34m\"output:\"\u001b[0m\u001b[1;33m,\u001b[0m \u001b[1;36m0\u001b[0m\u001b[1;33m)\u001b[0m\u001b[1;33m\u001b[0m\u001b[1;33m\u001b[0m\u001b[0m\n\u001b[0;32m      9\u001b[0m     \u001b[1;32mreturn\u001b[0m\u001b[1;33m(\u001b[0m\u001b[0mtheta_rad\u001b[0m\u001b[1;33m)\u001b[0m\u001b[1;33m\u001b[0m\u001b[1;33m\u001b[0m\u001b[0m\n\u001b[1;32m---> 10\u001b[1;33m \u001b[0mis_orthogonal\u001b[0m\u001b[1;33m(\u001b[0m\u001b[0mv1T\u001b[0m\u001b[1;33m,\u001b[0m\u001b[0mv2\u001b[0m\u001b[1;33m,\u001b[0m\u001b[0mtol\u001b[0m\u001b[1;33m)\u001b[0m\u001b[1;33m\u001b[0m\u001b[1;33m\u001b[0m\u001b[0m\n\u001b[0m",
      "\u001b[1;31mNameError\u001b[0m: name 'v1T' is not defined"
     ]
    }
   ],
   "source": [
    "def is_orthogonal(v1,v2,tol):\n",
    "    v1T=np.transpose(v1)\n",
    "    cos_angle=(np.dot(v1T,v2)) /(linalg.norm(v1T)*linalg.norm(v2))\n",
    "    theta_rad =math.acos(cos_angle)\n",
    "    if -tol <((math.pi)/2-theta_rad)<tol:\n",
    "        print(\"output:\", 1)\n",
    "    else :\n",
    "        print(\"output:\", 0)\n",
    "    return(theta_rad)    \n",
    "is_orthogonal(v1T,v2,tol)"
   ]
  },
  {
   "cell_type": "code",
   "execution_count": 165,
   "metadata": {},
   "outputs": [
    {
     "ename": "TypeError",
     "evalue": "unsupported operand type(s) for *: 'vector_calculator' and 'int'",
     "output_type": "error",
     "traceback": [
      "\u001b[1;31m---------------------------------------------------------------------------\u001b[0m",
      "\u001b[1;31mTypeError\u001b[0m                                 Traceback (most recent call last)",
      "\u001b[1;32m<ipython-input-165-49912bdeeee1>\u001b[0m in \u001b[0;36m<module>\u001b[1;34m\u001b[0m\n\u001b[0;32m     11\u001b[0m         \u001b[0mprint\u001b[0m\u001b[1;33m(\u001b[0m\u001b[1;34m\"output:\"\u001b[0m\u001b[1;33m,\u001b[0m \u001b[1;36m0\u001b[0m\u001b[1;33m)\u001b[0m\u001b[1;33m\u001b[0m\u001b[1;33m\u001b[0m\u001b[0m\n\u001b[0;32m     12\u001b[0m     \u001b[1;32mreturn\u001b[0m\u001b[1;33m(\u001b[0m\u001b[0mtheta_rad\u001b[0m\u001b[1;33m)\u001b[0m\u001b[1;33m\u001b[0m\u001b[1;33m\u001b[0m\u001b[0m\n\u001b[1;32m---> 13\u001b[1;33m \u001b[0mis_orthogonal\u001b[0m\u001b[1;33m(\u001b[0m\u001b[0mv1\u001b[0m\u001b[1;33m,\u001b[0m\u001b[0mv2\u001b[0m\u001b[1;33m,\u001b[0m\u001b[1;36m0.01\u001b[0m\u001b[1;33m)\u001b[0m\u001b[1;33m\u001b[0m\u001b[1;33m\u001b[0m\u001b[0m\n\u001b[0m",
      "\u001b[1;32m<ipython-input-165-49912bdeeee1>\u001b[0m in \u001b[0;36mis_orthogonal\u001b[1;34m(v1, v2, tol)\u001b[0m\n\u001b[0;32m      4\u001b[0m \u001b[1;32mdef\u001b[0m \u001b[0mis_orthogonal\u001b[0m\u001b[1;33m(\u001b[0m\u001b[0mv1\u001b[0m\u001b[1;33m,\u001b[0m\u001b[0mv2\u001b[0m\u001b[1;33m,\u001b[0m\u001b[0mtol\u001b[0m\u001b[1;33m)\u001b[0m\u001b[1;33m:\u001b[0m\u001b[1;33m\u001b[0m\u001b[1;33m\u001b[0m\u001b[0m\n\u001b[0;32m      5\u001b[0m     \u001b[0mv1T\u001b[0m \u001b[1;33m=\u001b[0m \u001b[0mnp\u001b[0m\u001b[1;33m.\u001b[0m\u001b[0mtranspose\u001b[0m\u001b[1;33m(\u001b[0m\u001b[0mv1\u001b[0m\u001b[1;33m)\u001b[0m\u001b[1;33m\u001b[0m\u001b[1;33m\u001b[0m\u001b[0m\n\u001b[1;32m----> 6\u001b[1;33m     \u001b[0mcos_angle\u001b[0m \u001b[1;33m=\u001b[0m \u001b[1;33m(\u001b[0m\u001b[0mnp\u001b[0m\u001b[1;33m.\u001b[0m\u001b[0mdot\u001b[0m\u001b[1;33m(\u001b[0m\u001b[0mv1T\u001b[0m\u001b[1;33m,\u001b[0m\u001b[0mv2\u001b[0m\u001b[1;33m)\u001b[0m\u001b[1;33m)\u001b[0m \u001b[1;33m/\u001b[0m \u001b[1;33m(\u001b[0m\u001b[0mlinalg\u001b[0m\u001b[1;33m.\u001b[0m\u001b[0mnorm\u001b[0m\u001b[1;33m(\u001b[0m\u001b[0mv1T\u001b[0m\u001b[1;33m)\u001b[0m\u001b[1;33m*\u001b[0m \u001b[0mlinalg\u001b[0m\u001b[1;33m.\u001b[0m\u001b[0mnorm\u001b[0m\u001b[1;33m(\u001b[0m\u001b[0mv2\u001b[0m\u001b[1;33m)\u001b[0m\u001b[1;33m)\u001b[0m\u001b[1;33m\u001b[0m\u001b[1;33m\u001b[0m\u001b[0m\n\u001b[0m\u001b[0;32m      7\u001b[0m     \u001b[0mtheta_rad\u001b[0m \u001b[1;33m=\u001b[0m\u001b[0mmath\u001b[0m\u001b[1;33m.\u001b[0m\u001b[0macos\u001b[0m\u001b[1;33m(\u001b[0m\u001b[0mcos_angle\u001b[0m\u001b[1;33m)\u001b[0m\u001b[1;33m\u001b[0m\u001b[1;33m\u001b[0m\u001b[0m\n\u001b[0;32m      8\u001b[0m     \u001b[1;32mif\u001b[0m \u001b[1;33m-\u001b[0m\u001b[0mtol\u001b[0m \u001b[1;33m<\u001b[0m \u001b[1;33m(\u001b[0m\u001b[1;33m(\u001b[0m\u001b[0mmath\u001b[0m\u001b[1;33m.\u001b[0m\u001b[0mpi\u001b[0m\u001b[1;33m)\u001b[0m\u001b[1;33m/\u001b[0m\u001b[1;36m2\u001b[0m\u001b[1;33m-\u001b[0m\u001b[0mtheta_rad\u001b[0m\u001b[1;33m)\u001b[0m \u001b[1;33m<\u001b[0m \u001b[0mtol\u001b[0m\u001b[1;33m:\u001b[0m\u001b[1;33m\u001b[0m\u001b[1;33m\u001b[0m\u001b[0m\n",
      "\u001b[1;32m<__array_function__ internals>\u001b[0m in \u001b[0;36mdot\u001b[1;34m(*args, **kwargs)\u001b[0m\n",
      "\u001b[1;31mTypeError\u001b[0m: unsupported operand type(s) for *: 'vector_calculator' and 'int'"
     ]
    }
   ],
   "source": [
    "import numpy as np\n",
    "import scipy.linalg as la\n",
    "\n",
    "def is_orthogonal(v1,v2,tol):\n",
    "    v1T = np.transpose(v1)\n",
    "    cos_angle = (np.dot(v1T,v2)) / (linalg.norm(v1T)* linalg.norm(v2))\n",
    "    theta_rad =math.acos(cos_angle)\n",
    "    if -tol < ((math.pi)/2-theta_rad) < tol:\n",
    "        print(\"output:\", 1)\n",
    "    else :\n",
    "        print(\"output:\", 0)\n",
    "    return(theta_rad)  \n",
    "is_orthogonal(v1,v2,0.01)"
   ]
  },
  {
   "cell_type": "code",
   "execution_count": 28,
   "metadata": {},
   "outputs": [],
   "source": [
    "class Vector_Calculator:\n",
    "    def __init__(self,x,y):\n",
    "        self.x = x \n",
    "        self.y= y\n",
    "\n",
    "    def angle_between (self):\n",
    "        theta = \\\n",
    "        arccos(dot(x,y.T)/ (norm(x)*norm(y)))\n",
    "        return theta\n",
    "    \n",
    "    def is_orthogonal(self):\n",
    "        v1T = np.transpose(v1)\n",
    "        cos_angle = (np.dot(v1T,v2)) / (linalg.norm(v1T)* linalg.norm(v2))\n",
    "        theta_rad =math.acos(cos_angle)\n",
    "        \n",
    "        if -tol < ((math.pi)/2-theta_rad) < tol:\n",
    "            print(\"output:\", 1)\n",
    "        else :\n",
    "            print(\"output:\", 0)\n",
    "        return(theta_rad) "
   ]
  },
  {
   "cell_type": "code",
   "execution_count": 34,
   "metadata": {},
   "outputs": [
    {
     "name": "stdout",
     "output_type": "stream",
     "text": [
      "[[1.   ]\n",
      " [0.001]]\n",
      "[[0.001]\n",
      " [1.   ]]\n"
     ]
    },
    {
     "ename": "TypeError",
     "evalue": "unsupported operand type(s) for *: 'vector_calculator' and 'float'",
     "output_type": "error",
     "traceback": [
      "\u001b[1;31m---------------------------------------------------------------------------\u001b[0m",
      "\u001b[1;31mTypeError\u001b[0m                                 Traceback (most recent call last)",
      "\u001b[1;32m<ipython-input-34-01d331e41880>\u001b[0m in \u001b[0;36m<module>\u001b[1;34m\u001b[0m\n\u001b[0;32m      5\u001b[0m \u001b[0mprint\u001b[0m\u001b[1;33m(\u001b[0m\u001b[0mv1\u001b[0m\u001b[1;33m.\u001b[0m\u001b[0mx\u001b[0m\u001b[1;33m)\u001b[0m\u001b[1;33m\u001b[0m\u001b[1;33m\u001b[0m\u001b[0m\n\u001b[0;32m      6\u001b[0m \u001b[0mprint\u001b[0m\u001b[1;33m(\u001b[0m\u001b[0mv1\u001b[0m\u001b[1;33m.\u001b[0m\u001b[0my\u001b[0m\u001b[1;33m)\u001b[0m\u001b[1;33m\u001b[0m\u001b[1;33m\u001b[0m\u001b[0m\n\u001b[1;32m----> 7\u001b[1;33m \u001b[0mprint\u001b[0m\u001b[1;33m(\u001b[0m\u001b[0mv1\u001b[0m\u001b[1;33m.\u001b[0m\u001b[0mis_orthogonal\u001b[0m\u001b[1;33m(\u001b[0m\u001b[1;33m)\u001b[0m\u001b[1;33m)\u001b[0m\u001b[1;33m\u001b[0m\u001b[1;33m\u001b[0m\u001b[0m\n\u001b[0m",
      "\u001b[1;32m<ipython-input-28-95b189f648e5>\u001b[0m in \u001b[0;36mis_orthogonal\u001b[1;34m(self)\u001b[0m\n\u001b[0;32m     11\u001b[0m     \u001b[1;32mdef\u001b[0m \u001b[0mis_orthogonal\u001b[0m\u001b[1;33m(\u001b[0m\u001b[0mself\u001b[0m\u001b[1;33m)\u001b[0m\u001b[1;33m:\u001b[0m\u001b[1;33m\u001b[0m\u001b[1;33m\u001b[0m\u001b[0m\n\u001b[0;32m     12\u001b[0m         \u001b[0mv1T\u001b[0m \u001b[1;33m=\u001b[0m \u001b[0mnp\u001b[0m\u001b[1;33m.\u001b[0m\u001b[0mtranspose\u001b[0m\u001b[1;33m(\u001b[0m\u001b[0mv1\u001b[0m\u001b[1;33m)\u001b[0m\u001b[1;33m\u001b[0m\u001b[1;33m\u001b[0m\u001b[0m\n\u001b[1;32m---> 13\u001b[1;33m         \u001b[0mcos_angle\u001b[0m \u001b[1;33m=\u001b[0m \u001b[1;33m(\u001b[0m\u001b[0mnp\u001b[0m\u001b[1;33m.\u001b[0m\u001b[0mdot\u001b[0m\u001b[1;33m(\u001b[0m\u001b[0mv1T\u001b[0m\u001b[1;33m,\u001b[0m\u001b[0mv2\u001b[0m\u001b[1;33m)\u001b[0m\u001b[1;33m)\u001b[0m \u001b[1;33m/\u001b[0m \u001b[1;33m(\u001b[0m\u001b[0mlinalg\u001b[0m\u001b[1;33m.\u001b[0m\u001b[0mnorm\u001b[0m\u001b[1;33m(\u001b[0m\u001b[0mv1T\u001b[0m\u001b[1;33m)\u001b[0m\u001b[1;33m*\u001b[0m \u001b[0mlinalg\u001b[0m\u001b[1;33m.\u001b[0m\u001b[0mnorm\u001b[0m\u001b[1;33m(\u001b[0m\u001b[0mv2\u001b[0m\u001b[1;33m)\u001b[0m\u001b[1;33m)\u001b[0m\u001b[1;33m\u001b[0m\u001b[1;33m\u001b[0m\u001b[0m\n\u001b[0m\u001b[0;32m     14\u001b[0m         \u001b[0mtheta_rad\u001b[0m \u001b[1;33m=\u001b[0m\u001b[0mmath\u001b[0m\u001b[1;33m.\u001b[0m\u001b[0macos\u001b[0m\u001b[1;33m(\u001b[0m\u001b[0mcos_angle\u001b[0m\u001b[1;33m)\u001b[0m\u001b[1;33m\u001b[0m\u001b[1;33m\u001b[0m\u001b[0m\n\u001b[0;32m     15\u001b[0m         \u001b[1;32mif\u001b[0m \u001b[1;33m-\u001b[0m\u001b[0mtol\u001b[0m \u001b[1;33m<\u001b[0m \u001b[1;33m(\u001b[0m\u001b[1;33m(\u001b[0m\u001b[0mmath\u001b[0m\u001b[1;33m.\u001b[0m\u001b[0mpi\u001b[0m\u001b[1;33m)\u001b[0m\u001b[1;33m/\u001b[0m\u001b[1;36m2\u001b[0m\u001b[1;33m-\u001b[0m\u001b[0mtheta_rad\u001b[0m\u001b[1;33m)\u001b[0m \u001b[1;33m<\u001b[0m \u001b[0mtol\u001b[0m\u001b[1;33m:\u001b[0m\u001b[1;33m\u001b[0m\u001b[1;33m\u001b[0m\u001b[0m\n",
      "\u001b[1;32m<__array_function__ internals>\u001b[0m in \u001b[0;36mdot\u001b[1;34m(*args, **kwargs)\u001b[0m\n",
      "\u001b[1;31mTypeError\u001b[0m: unsupported operand type(s) for *: 'vector_calculator' and 'float'"
     ]
    }
   ],
   "source": [
    "from scipy import linalg\n",
    "v1 = np.array([[1],[0.001]])\n",
    "v2 = np.array([[0.001], [1]])\n",
    "v1 = vector_calculator(v1,v2)\n",
    "print(v1.x)\n",
    "print(v1.y)\n",
    "print(v1.is_orthogonal())"
   ]
  },
  {
   "cell_type": "code",
   "execution_count": 12,
   "metadata": {},
   "outputs": [
    {
     "name": "stdout",
     "output_type": "stream",
     "text": [
      "[[10  9  3]]\n"
     ]
    }
   ],
   "source": [
    "import numpy as np\n",
    "a = np.array([[10, 9, 3]])\n",
    "b = np.array([[2, 5, 12]])\n",
    "v1 = vector_calculator(a,b)\n",
    "print(v1.x)"
   ]
  },
  {
   "cell_type": "code",
   "execution_count": 13,
   "metadata": {},
   "outputs": [
    {
     "name": "stdout",
     "output_type": "stream",
     "text": [
      "[[ 2  5 12]]\n"
     ]
    }
   ],
   "source": [
    "print(v1.y)"
   ]
  },
  {
   "cell_type": "code",
   "execution_count": 22,
   "metadata": {},
   "outputs": [
    {
     "ename": "AttributeError",
     "evalue": "'list' object has no attribute 'T'",
     "output_type": "error",
     "traceback": [
      "\u001b[1;31m---------------------------------------------------------------------------\u001b[0m",
      "\u001b[1;31mAttributeError\u001b[0m                            Traceback (most recent call last)",
      "\u001b[1;32m<ipython-input-22-cffced4dd0fa>\u001b[0m in \u001b[0;36m<module>\u001b[1;34m\u001b[0m\n\u001b[0;32m      4\u001b[0m \u001b[1;32mimport\u001b[0m \u001b[0mmath\u001b[0m\u001b[1;33m\u001b[0m\u001b[1;33m\u001b[0m\u001b[0m\n\u001b[0;32m      5\u001b[0m \u001b[1;33m\u001b[0m\u001b[0m\n\u001b[1;32m----> 6\u001b[1;33m \u001b[0mv1\u001b[0m\u001b[1;33m.\u001b[0m\u001b[0mangle_between\u001b[0m\u001b[1;33m(\u001b[0m\u001b[1;33m)\u001b[0m\u001b[1;33m\u001b[0m\u001b[1;33m\u001b[0m\u001b[0m\n\u001b[0m",
      "\u001b[1;32m<ipython-input-8-895bc6042af5>\u001b[0m in \u001b[0;36mangle_between\u001b[1;34m(self)\u001b[0m\n\u001b[0;32m      6\u001b[0m     \u001b[1;32mdef\u001b[0m \u001b[0mangle_between\u001b[0m \u001b[1;33m(\u001b[0m\u001b[0mself\u001b[0m\u001b[1;33m)\u001b[0m\u001b[1;33m:\u001b[0m\u001b[1;33m\u001b[0m\u001b[1;33m\u001b[0m\u001b[0m\n\u001b[0;32m      7\u001b[0m         \u001b[0mtheta\u001b[0m \u001b[1;33m=\u001b[0m\u001b[0;31m \u001b[0m\u001b[0;31m\\\u001b[0m\u001b[1;33m\u001b[0m\u001b[1;33m\u001b[0m\u001b[0m\n\u001b[1;32m----> 8\u001b[1;33m         \u001b[0marccos\u001b[0m\u001b[1;33m(\u001b[0m\u001b[0mdot\u001b[0m\u001b[1;33m(\u001b[0m\u001b[0mx\u001b[0m\u001b[1;33m,\u001b[0m\u001b[0my\u001b[0m\u001b[1;33m.\u001b[0m\u001b[0mT\u001b[0m\u001b[1;33m)\u001b[0m\u001b[1;33m/\u001b[0m \u001b[1;33m(\u001b[0m\u001b[0mnorm\u001b[0m\u001b[1;33m(\u001b[0m\u001b[0mx\u001b[0m\u001b[1;33m)\u001b[0m\u001b[1;33m*\u001b[0m\u001b[0mnorm\u001b[0m\u001b[1;33m(\u001b[0m\u001b[0my\u001b[0m\u001b[1;33m)\u001b[0m\u001b[1;33m)\u001b[0m\u001b[1;33m)\u001b[0m\u001b[1;33m\u001b[0m\u001b[1;33m\u001b[0m\u001b[0m\n\u001b[0m\u001b[0;32m      9\u001b[0m         \u001b[1;32mreturn\u001b[0m \u001b[0mtheta\u001b[0m\u001b[1;33m\u001b[0m\u001b[1;33m\u001b[0m\u001b[0m\n",
      "\u001b[1;31mAttributeError\u001b[0m: 'list' object has no attribute 'T'"
     ]
    }
   ],
   "source": [
    "import numpy as np \n",
    "from numpy import arccos,dot     # Importing dependencies\n",
    "from numpy.linalg import norm\n",
    "import math\n"
   ]
  },
  {
   "cell_type": "code",
   "execution_count": null,
   "metadata": {},
   "outputs": [],
   "source": [
    " "
   ]
  }
 ],
 "metadata": {
  "kernelspec": {
   "display_name": "Python 3",
   "language": "python",
   "name": "python3"
  },
  "language_info": {
   "codemirror_mode": {
    "name": "ipython",
    "version": 3
   },
   "file_extension": ".py",
   "mimetype": "text/x-python",
   "name": "python",
   "nbconvert_exporter": "python",
   "pygments_lexer": "ipython3",
   "version": "3.8.5"
  }
 },
 "nbformat": 4,
 "nbformat_minor": 4
}
